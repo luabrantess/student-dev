{
  "nbformat": 4,
  "nbformat_minor": 0,
  "metadata": {
    "colab": {
      "name": "Calculadora.ipynb",
      "provenance": [],
      "authorship_tag": "ABX9TyMv4ToUSbBa3WXRgtIw3msI",
      "include_colab_link": true
    },
    "kernelspec": {
      "name": "python3",
      "display_name": "Python 3"
    },
    "language_info": {
      "name": "python"
    }
  },
  "cells": [
    {
      "cell_type": "markdown",
      "metadata": {
        "id": "view-in-github",
        "colab_type": "text"
      },
      "source": [
        "<a href=\"https://colab.research.google.com/github/luabrantess/student-dev/blob/main/Calculadora_Python_Simples.ipynb\" target=\"_parent\"><img src=\"https://colab.research.google.com/assets/colab-badge.svg\" alt=\"Open In Colab\"/></a>"
      ]
    },
    {
      "cell_type": "code",
      "source": [
        "print(\"----------- CALCULADORA -------------\")"
      ],
      "metadata": {
        "id": "XRVzfPH1R4eX"
      },
      "execution_count": null,
      "outputs": []
    },
    {
      "cell_type": "code",
      "source": [
        "def sub(num1,num2): return num1-num2"
      ],
      "metadata": {
        "id": "dCLh0A3OQuPK"
      },
      "execution_count": 18,
      "outputs": []
    },
    {
      "cell_type": "code",
      "source": [
        "mult = lambda num1,num2: num1*num2"
      ],
      "metadata": {
        "id": "KjJmpwNyQyxR"
      },
      "execution_count": 69,
      "outputs": []
    },
    {
      "cell_type": "code",
      "source": [
        "div = lambda num1,num2: num1/num2"
      ],
      "metadata": {
        "id": "ZxY2I0UJRm_0"
      },
      "execution_count": 72,
      "outputs": []
    },
    {
      "cell_type": "code",
      "source": [
        "soma = lambda num1,num2: num1+num2"
      ],
      "metadata": {
        "id": "odEkk1a7PsA9"
      },
      "execution_count": 71,
      "outputs": []
    },
    {
      "cell_type": "code",
      "source": [
        "print('Qual operação deseja fazer')\n",
        "print(\"1- Soma\")\n",
        "print(\"2- Subtração\")\n",
        "print(\"3- Multiplicação\")\n",
        "print(\"4- Divisão\")\n",
        "escolha = int(input())"
      ],
      "metadata": {
        "id": "-8easTYTSA2J"
      },
      "execution_count": null,
      "outputs": []
    },
    {
      "cell_type": "code",
      "execution_count": null,
      "metadata": {
        "id": "MvCAqRczOzLD"
      },
      "outputs": [],
      "source": [
        "\n",
        "num1 = int(input(\"Digite o número: \"))\n",
        "num2 = int(input(\"Digite o segundo numero: \"))\n",
        "\n",
        "if escolha == 1:\n",
        "  print(\"Soma = \", soma(num1,num2))\n",
        "\n",
        "elif escolha == 2:\n",
        "  print(\"Subtração = \", sub(num1,num2))\n",
        "\n",
        "elif escolha == 3:\n",
        "  print(\"Multiplicação = \", mult(num1,num2))\n",
        "\n",
        "elif escolha == 4:\n",
        "  print(\"Divisão = \", div(num1,num2))\n",
        "\n",
        "else:\n",
        "  print(\"Invalido!\")\n"
      ]
    }
  ]
}